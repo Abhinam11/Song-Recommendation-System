{
  "cells": [
    {
      "cell_type": "code",
      "execution_count": null,
      "metadata": {
        "colab": {
          "base_uri": "https://localhost:8080/"
        },
        "id": "FPnjy8hrP7Bx",
        "outputId": "93e247f5-6b75-42bc-8a4c-e20b2adddcfb"
      },
      "outputs": [
        {
          "output_type": "stream",
          "name": "stdout",
          "text": [
            "Looking in indexes: https://pypi.org/simple, https://us-python.pkg.dev/colab-wheels/public/simple/\n",
            "Collecting neattext\n",
            "  Downloading neattext-0.1.3-py3-none-any.whl (114 kB)\n",
            "\u001b[K     |████████████████████████████████| 114 kB 5.3 MB/s \n",
            "\u001b[?25hInstalling collected packages: neattext\n",
            "Successfully installed neattext-0.1.3\n",
            "Mounted at /content/drive\n"
          ]
        }
      ],
      "source": [
        "import numpy as np\n",
        "import pandas as pd\n",
        "import matplotlib.pyplot as plt\n",
        "import seaborn as sns\n",
        "import tensorflow as tf\n",
        "import seaborn as sns\n",
        "!pip install neattext\n",
        "import neattext.functions as nfx\n",
        "from tensorflow.keras.preprocessing.text import one_hot\n",
        "from tensorflow.keras.preprocessing.sequence import pad_sequences\n",
        "from tensorflow.keras.models import Sequential\n",
        "from tensorflow.keras.layers import Dense\n",
        "from tensorflow.keras.layers import Flatten\n",
        "from tensorflow.keras.layers import Embedding\n",
        "%matplotlib inline\n",
        "from google.colab import drive\n",
        "drive.mount('/content/drive')"
      ]
    },
    {
      "cell_type": "code",
      "execution_count": null,
      "metadata": {
        "id": "t2CSHnSXP8mp"
      },
      "outputs": [],
      "source": [
        "df = pd.read_csv(\"/content/drive/MyDrive/Project-Phase1-CS4/emotions.csv\")"
      ]
    },
    {
      "cell_type": "code",
      "source": [
        "import io\n",
        "import csv\n",
        "import tensorflow as tf\n",
        "import numpy as np\n",
        "from tensorflow.keras.preprocessing.text import Tokenizer\n",
        "from tensorflow.keras.preprocessing.sequence import pad_sequences\n",
        "import matplotlib.pyplot as plt"
      ],
      "metadata": {
        "id": "tKb9yVw3AsXO"
      },
      "execution_count": null,
      "outputs": []
    },
    {
      "cell_type": "code",
      "execution_count": null,
      "metadata": {
        "colab": {
          "base_uri": "https://localhost:8080/",
          "height": 206
        },
        "id": "--rvX96NP-7z",
        "outputId": "69734258-bf41-44d0-a024-51004d1c9a78"
      },
      "outputs": [
        {
          "output_type": "execute_result",
          "data": {
            "text/plain": [
              "                                                text emotions\n",
              "0  i feel awful about it too because it s my job ...  sadness\n",
              "1                              im alone i feel awful  sadness\n",
              "2  ive probably mentioned this before but i reall...      joy\n",
              "3           i was feeling a little low few days back  sadness\n",
              "4  i beleive that i am much more sensitive to oth...     love"
            ],
            "text/html": [
              "\n",
              "  <div id=\"df-1c609941-ce22-4d68-b1ba-c950f37cc32c\">\n",
              "    <div class=\"colab-df-container\">\n",
              "      <div>\n",
              "<style scoped>\n",
              "    .dataframe tbody tr th:only-of-type {\n",
              "        vertical-align: middle;\n",
              "    }\n",
              "\n",
              "    .dataframe tbody tr th {\n",
              "        vertical-align: top;\n",
              "    }\n",
              "\n",
              "    .dataframe thead th {\n",
              "        text-align: right;\n",
              "    }\n",
              "</style>\n",
              "<table border=\"1\" class=\"dataframe\">\n",
              "  <thead>\n",
              "    <tr style=\"text-align: right;\">\n",
              "      <th></th>\n",
              "      <th>text</th>\n",
              "      <th>emotions</th>\n",
              "    </tr>\n",
              "  </thead>\n",
              "  <tbody>\n",
              "    <tr>\n",
              "      <th>0</th>\n",
              "      <td>i feel awful about it too because it s my job ...</td>\n",
              "      <td>sadness</td>\n",
              "    </tr>\n",
              "    <tr>\n",
              "      <th>1</th>\n",
              "      <td>im alone i feel awful</td>\n",
              "      <td>sadness</td>\n",
              "    </tr>\n",
              "    <tr>\n",
              "      <th>2</th>\n",
              "      <td>ive probably mentioned this before but i reall...</td>\n",
              "      <td>joy</td>\n",
              "    </tr>\n",
              "    <tr>\n",
              "      <th>3</th>\n",
              "      <td>i was feeling a little low few days back</td>\n",
              "      <td>sadness</td>\n",
              "    </tr>\n",
              "    <tr>\n",
              "      <th>4</th>\n",
              "      <td>i beleive that i am much more sensitive to oth...</td>\n",
              "      <td>love</td>\n",
              "    </tr>\n",
              "  </tbody>\n",
              "</table>\n",
              "</div>\n",
              "      <button class=\"colab-df-convert\" onclick=\"convertToInteractive('df-1c609941-ce22-4d68-b1ba-c950f37cc32c')\"\n",
              "              title=\"Convert this dataframe to an interactive table.\"\n",
              "              style=\"display:none;\">\n",
              "        \n",
              "  <svg xmlns=\"http://www.w3.org/2000/svg\" height=\"24px\"viewBox=\"0 0 24 24\"\n",
              "       width=\"24px\">\n",
              "    <path d=\"M0 0h24v24H0V0z\" fill=\"none\"/>\n",
              "    <path d=\"M18.56 5.44l.94 2.06.94-2.06 2.06-.94-2.06-.94-.94-2.06-.94 2.06-2.06.94zm-11 1L8.5 8.5l.94-2.06 2.06-.94-2.06-.94L8.5 2.5l-.94 2.06-2.06.94zm10 10l.94 2.06.94-2.06 2.06-.94-2.06-.94-.94-2.06-.94 2.06-2.06.94z\"/><path d=\"M17.41 7.96l-1.37-1.37c-.4-.4-.92-.59-1.43-.59-.52 0-1.04.2-1.43.59L10.3 9.45l-7.72 7.72c-.78.78-.78 2.05 0 2.83L4 21.41c.39.39.9.59 1.41.59.51 0 1.02-.2 1.41-.59l7.78-7.78 2.81-2.81c.8-.78.8-2.07 0-2.86zM5.41 20L4 18.59l7.72-7.72 1.47 1.35L5.41 20z\"/>\n",
              "  </svg>\n",
              "      </button>\n",
              "      \n",
              "  <style>\n",
              "    .colab-df-container {\n",
              "      display:flex;\n",
              "      flex-wrap:wrap;\n",
              "      gap: 12px;\n",
              "    }\n",
              "\n",
              "    .colab-df-convert {\n",
              "      background-color: #E8F0FE;\n",
              "      border: none;\n",
              "      border-radius: 50%;\n",
              "      cursor: pointer;\n",
              "      display: none;\n",
              "      fill: #1967D2;\n",
              "      height: 32px;\n",
              "      padding: 0 0 0 0;\n",
              "      width: 32px;\n",
              "    }\n",
              "\n",
              "    .colab-df-convert:hover {\n",
              "      background-color: #E2EBFA;\n",
              "      box-shadow: 0px 1px 2px rgba(60, 64, 67, 0.3), 0px 1px 3px 1px rgba(60, 64, 67, 0.15);\n",
              "      fill: #174EA6;\n",
              "    }\n",
              "\n",
              "    [theme=dark] .colab-df-convert {\n",
              "      background-color: #3B4455;\n",
              "      fill: #D2E3FC;\n",
              "    }\n",
              "\n",
              "    [theme=dark] .colab-df-convert:hover {\n",
              "      background-color: #434B5C;\n",
              "      box-shadow: 0px 1px 3px 1px rgba(0, 0, 0, 0.15);\n",
              "      filter: drop-shadow(0px 1px 2px rgba(0, 0, 0, 0.3));\n",
              "      fill: #FFFFFF;\n",
              "    }\n",
              "  </style>\n",
              "\n",
              "      <script>\n",
              "        const buttonEl =\n",
              "          document.querySelector('#df-1c609941-ce22-4d68-b1ba-c950f37cc32c button.colab-df-convert');\n",
              "        buttonEl.style.display =\n",
              "          google.colab.kernel.accessAllowed ? 'block' : 'none';\n",
              "\n",
              "        async function convertToInteractive(key) {\n",
              "          const element = document.querySelector('#df-1c609941-ce22-4d68-b1ba-c950f37cc32c');\n",
              "          const dataTable =\n",
              "            await google.colab.kernel.invokeFunction('convertToInteractive',\n",
              "                                                     [key], {});\n",
              "          if (!dataTable) return;\n",
              "\n",
              "          const docLinkHtml = 'Like what you see? Visit the ' +\n",
              "            '<a target=\"_blank\" href=https://colab.research.google.com/notebooks/data_table.ipynb>data table notebook</a>'\n",
              "            + ' to learn more about interactive tables.';\n",
              "          element.innerHTML = '';\n",
              "          dataTable['output_type'] = 'display_data';\n",
              "          await google.colab.output.renderOutput(dataTable, element);\n",
              "          const docLink = document.createElement('div');\n",
              "          docLink.innerHTML = docLinkHtml;\n",
              "          element.appendChild(docLink);\n",
              "        }\n",
              "      </script>\n",
              "    </div>\n",
              "  </div>\n",
              "  "
            ]
          },
          "metadata": {},
          "execution_count": 12
        }
      ],
      "source": [
        "df.head()"
      ]
    },
    {
      "cell_type": "code",
      "execution_count": null,
      "metadata": {
        "id": "ybHP4uloQAIU"
      },
      "outputs": [],
      "source": [
        "from sklearn.feature_extraction.text import CountVectorizer,TfidfVectorizer\n",
        "from sklearn.metrics import accuracy_score, confusion_matrix, classification_report, plot_confusion_matrix\n",
        "from sklearn.model_selection import train_test_split"
      ]
    },
    {
      "cell_type": "code",
      "execution_count": null,
      "metadata": {
        "id": "-Qt9GTk3QIRK"
      },
      "outputs": [],
      "source": [
        "from tensorflow.keras.preprocessing.text import Tokenizer"
      ]
    },
    {
      "cell_type": "code",
      "execution_count": null,
      "metadata": {
        "id": "h_DSSaJAQRYK"
      },
      "outputs": [],
      "source": [
        "tweets = df['text']\n",
        "labels = df['emotions']"
      ]
    },
    {
      "cell_type": "code",
      "execution_count": null,
      "metadata": {
        "colab": {
          "base_uri": "https://localhost:8080/",
          "height": 35
        },
        "id": "XuCZwFF6QUW3",
        "outputId": "343e6e25-26ec-4e80-ced6-fc3b30de2862"
      },
      "outputs": [
        {
          "output_type": "execute_result",
          "data": {
            "text/plain": [
              "'i feel awful about it too because it s my job to get him in a position to succeed and it just didn t happen here'"
            ],
            "application/vnd.google.colaboratory.intrinsic+json": {
              "type": "string"
            }
          },
          "metadata": {},
          "execution_count": 16
        }
      ],
      "source": [
        "tweets[0]"
      ]
    },
    {
      "cell_type": "code",
      "execution_count": null,
      "metadata": {
        "colab": {
          "base_uri": "https://localhost:8080/",
          "height": 35
        },
        "id": "AyMdwuvFQVqs",
        "outputId": "642742b1-9ddc-45dd-9e2f-91314a5e7f3b"
      },
      "outputs": [
        {
          "output_type": "execute_result",
          "data": {
            "text/plain": [
              "'sadness'"
            ],
            "application/vnd.google.colaboratory.intrinsic+json": {
              "type": "string"
            }
          },
          "metadata": {},
          "execution_count": 17
        }
      ],
      "source": [
        "labels[0]"
      ]
    },
    {
      "cell_type": "code",
      "execution_count": null,
      "metadata": {
        "id": "ySxg3EzmQWiR"
      },
      "outputs": [],
      "source": [
        "tokenizer = Tokenizer(num_words=10000,oov_token='<UNK>')\n",
        "tokenizer.fit_on_texts(tweets)"
      ]
    },
    {
      "cell_type": "code",
      "execution_count": null,
      "metadata": {
        "id": "1h54XQSZRsp5"
      },
      "outputs": [],
      "source": []
    },
    {
      "cell_type": "code",
      "execution_count": null,
      "metadata": {
        "id": "EVpXJlZoRxC-",
        "colab": {
          "base_uri": "https://localhost:8080/",
          "height": 166
        },
        "outputId": "40be9002-6675-4d9d-f9b7-e6f132d019c7"
      },
      "outputs": [
        {
          "output_type": "error",
          "ename": "NameError",
          "evalue": "ignored",
          "traceback": [
            "\u001b[0;31m---------------------------------------------------------------------------\u001b[0m",
            "\u001b[0;31mNameError\u001b[0m                                 Traceback (most recent call last)",
            "\u001b[0;32m<ipython-input-19-b1052280bfd1>\u001b[0m in \u001b[0;36m<module>\u001b[0;34m\u001b[0m\n\u001b[0;32m----> 1\u001b[0;31m \u001b[0mX_t\u001b[0m\u001b[0;34m,\u001b[0m \u001b[0mX_test\u001b[0m\u001b[0;34m,\u001b[0m \u001b[0mY_t\u001b[0m\u001b[0;34m,\u001b[0m \u001b[0mY_test\u001b[0m \u001b[0;34m=\u001b[0m \u001b[0mtrain_test_split\u001b[0m\u001b[0;34m(\u001b[0m \u001b[0mtweets\u001b[0m\u001b[0;34m,\u001b[0m\u001b[0mnum_label\u001b[0m\u001b[0;34m,\u001b[0m \u001b[0mtest_size\u001b[0m \u001b[0;34m=\u001b[0m \u001b[0;36m0.10\u001b[0m\u001b[0;34m,\u001b[0m \u001b[0mrandom_state\u001b[0m \u001b[0;34m=\u001b[0m \u001b[0;36m42\u001b[0m\u001b[0;34m)\u001b[0m\u001b[0;34m\u001b[0m\u001b[0;34m\u001b[0m\u001b[0m\n\u001b[0m",
            "\u001b[0;31mNameError\u001b[0m: name 'num_label' is not defined"
          ]
        }
      ],
      "source": [
        "X_t, X_test, Y_t, Y_test = train_test_split( tweets,num_label, test_size = 0.10, random_state = 42)"
      ]
    },
    {
      "cell_type": "code",
      "execution_count": null,
      "metadata": {
        "id": "r9ZBz5UgR5VA"
      },
      "outputs": [],
      "source": [
        "X_train, X_val, Y_train, Y_val = train_test_split(X_t,Y_t, test_size = 0.10, random_state = 42)"
      ]
    },
    {
      "cell_type": "code",
      "execution_count": null,
      "metadata": {
        "id": "MNs9XQFBSQOE"
      },
      "outputs": [],
      "source": [
        "# model = tf.keras.models.Sequential([\n",
        "#       tf.keras.layers.Embedding(10000,16,input_length=maxlen),\n",
        "#         tf.keras.layers.Bidirectional(tf.keras.layers.LSTM(20,return_sequences=True)),\n",
        "#         tf.keras.layers.Bidirectional(tf.keras.layers.LSTM(20)),\n",
        "#         tf.keras.layers.Dense(1,activation='softmax')\n",
        "# ])\n",
        "\n",
        "# model.compile(\n",
        "#     loss='categorical_crossentropy',\n",
        "#     optimizer='adam',\n",
        "#     metrics=['accuracy']\n",
        "# )"
      ]
    },
    {
      "cell_type": "code",
      "execution_count": null,
      "metadata": {
        "id": "9nfZaPnHSX-t"
      },
      "outputs": [],
      "source": [
        "# history= model.fit(\n",
        "#     X_train,Y_train,\n",
        "#     validation_data=(X_val, Y_val),\n",
        "#     epochs=2,\n",
        "#     callbacks=[\n",
        "#                tf.keras.callbacks.EarlyStopping(monitor='accuracy',patience=2)\n",
        "#     ]      \n",
        "# )"
      ]
    },
    {
      "cell_type": "code",
      "execution_count": null,
      "metadata": {
        "id": "oixVZ88RSghl"
      },
      "outputs": [],
      "source": [
        "NUM_WORDS = 1000\n",
        "EMBEDDING_DIM = 16\n",
        "MAXLEN = 120\n",
        "PADDING = 'post'\n",
        "OOV_TOKEN = \"<OOV>\"\n",
        "TRAINING_SPLIT = .8"
      ]
    },
    {
      "cell_type": "code",
      "source": [
        "def remove_stopwords(sentence):\n",
        "    \"\"\"\n",
        "    Removes a list of stopwords\n",
        "    \n",
        "    Args:\n",
        "        sentence (string): sentence to remove the stopwords from\n",
        "    \n",
        "    Returns:\n",
        "        sentence (string): lowercase sentence without the stopwords\n",
        "    \"\"\"\n",
        "    # List of stopwords\n",
        "    stopwords = [\"a\", \"about\", \"above\", \"after\", \"again\", \"against\", \"all\", \"am\", \"an\", \"and\", \"any\", \"are\", \"as\", \"at\", \"be\", \"because\", \"been\", \"before\", \"being\", \"below\", \"between\", \"both\", \"but\", \"by\", \"could\", \"did\", \"do\", \"does\", \"doing\", \"down\", \"during\", \"each\", \"few\", \"for\", \"from\", \"further\", \"had\", \"has\", \"have\", \"having\", \"he\", \"he'd\", \"he'll\", \"he's\", \"her\", \"here\", \"here's\", \"hers\", \"herself\", \"him\", \"himself\", \"his\", \"how\", \"how's\", \"i\", \"i'd\", \"i'll\", \"i'm\", \"i've\", \"if\", \"in\", \"into\", \"is\", \"it\", \"it's\", \"its\", \"itself\", \"let's\", \"me\", \"more\", \"most\", \"my\", \"myself\", \"nor\", \"of\", \"on\", \"once\", \"only\", \"or\", \"other\", \"ought\", \"our\", \"ours\", \"ourselves\", \"out\", \"over\", \"own\", \"same\", \"she\", \"she'd\", \"she'll\", \"she's\", \"should\", \"so\", \"some\", \"such\", \"than\", \"that\", \"that's\", \"the\", \"their\", \"theirs\", \"them\", \"themselves\", \"then\", \"there\", \"there's\", \"these\", \"they\", \"they'd\", \"they'll\", \"they're\", \"they've\", \"this\", \"those\", \"through\", \"to\", \"too\", \"under\", \"until\", \"up\", \"very\", \"was\", \"we\", \"we'd\", \"we'll\", \"we're\", \"we've\", \"were\", \"what\", \"what's\", \"when\", \"when's\", \"where\", \"where's\", \"which\", \"while\", \"who\", \"who's\", \"whom\", \"why\", \"why's\", \"with\", \"would\", \"you\", \"you'd\", \"you'll\", \"you're\", \"you've\", \"your\", \"yours\", \"yourself\", \"yourselves\" ]\n",
        "    \n",
        "    # Sentence converted to lowercase-only\n",
        "    sentence = sentence.lower()\n",
        "\n",
        "    words = sentence.split()\n",
        "    no_words = [w for w in words if w not in stopwords]\n",
        "    sentence = \" \".join(no_words)\n",
        "\n",
        "    return sentence\n",
        "\n",
        "\n",
        "def parse_data_from_file(filename):\n",
        "    \"\"\"\n",
        "    Extracts sentences and labels from a CSV file\n",
        "    \n",
        "    Args:\n",
        "        filename (string): path to the CSV file\n",
        "    \n",
        "    Returns:\n",
        "        sentences, labels (list of string, list of string): tuple containing lists of sentences and labels\n",
        "    \"\"\"\n",
        "    sentences = []\n",
        "    labels = []\n",
        "    with open(filename, 'r') as csvfile:\n",
        "        reader = csv.reader(csvfile, delimiter=',')\n",
        "        next(reader)\n",
        "        for row in reader:\n",
        "            labels.append(row[0])\n",
        "            sentence = row[1]\n",
        "            sentence = remove_stopwords(sentence)\n",
        "            sentences.append(sentence)\n",
        "\n",
        "    return sentences, labels"
      ],
      "metadata": {
        "id": "0Tra8ZMPA2OM"
      },
      "execution_count": null,
      "outputs": []
    },
    {
      "cell_type": "code",
      "source": [
        "# GRADED FUNCTIONS: train_val_split\n",
        "def train_val_split(sentences, labels, training_split):\n",
        "    \"\"\"\n",
        "    Splits the dataset into training and validation sets\n",
        "    \n",
        "    Args:\n",
        "        sentences (list of string): lower-cased sentences without stopwords\n",
        "        labels (list of string): list of labels\n",
        "        training split (float): proportion of the dataset to convert to include in the train set\n",
        "    \n",
        "    Returns:\n",
        "        train_sentences, validation_sentences, train_labels, validation_labels - lists containing the data splits\n",
        "    \"\"\"\n",
        "    \n",
        "    ### START CODE HERE\n",
        "    \n",
        "    # Compute the number of sentences that will be used for training (should be an integer)\n",
        "    train_size = int(len(sentences) * training_split)\n",
        "\n",
        "    # Split the sentences and labels into train/validation splits\n",
        "    train_sentences = sentences[:train_size]\n",
        "    train_labels = labels[:train_size]\n",
        "\n",
        "    validation_sentences = sentences[train_size:]\n",
        "    validation_labels = labels[train_size:]\n",
        "\n",
        "    \n",
        "    ### END CODE HERE\n",
        "    \n",
        "    return train_sentences, validation_sentences, train_labels, validation_labels"
      ],
      "metadata": {
        "id": "kX54qgqpBDxx"
      },
      "execution_count": null,
      "outputs": []
    },
    {
      "cell_type": "code",
      "source": [
        "train_sentences, val_sentences, train_labels, val_labels = train_val_split(tweets, labels, TRAINING_SPLIT)"
      ],
      "metadata": {
        "id": "vAoifTSTB4fz"
      },
      "execution_count": null,
      "outputs": []
    },
    {
      "cell_type": "code",
      "source": [
        "# GRADED FUNCTION: fit_tokenizer\n",
        "def fit_tokenizer(train_sentences, num_words, oov_token):\n",
        "    \"\"\"\n",
        "    Instantiates the Tokenizer class on the training sentences\n",
        "    \n",
        "    Args:\n",
        "        train_sentences (list of string): lower-cased sentences without stopwords to be used for training\n",
        "        num_words (int) - number of words to keep when tokenizing\n",
        "        oov_token (string) - symbol for the out-of-vocabulary token\n",
        "    \n",
        "    Returns:\n",
        "        tokenizer (object): an instance of the Tokenizer class containing the word-index dictionary\n",
        "    \"\"\"\n",
        "    \n",
        "    ### START CODE HERE\n",
        "    \n",
        "    # Instantiate the Tokenizer class, passing in the correct values for num_words and oov_token\n",
        "    tokenizer =Tokenizer(num_words = num_words, oov_token=oov_token)\n",
        "    \n",
        "    # Fit the tokenizer to the training sentences\n",
        "    tokenizer.fit_on_texts(train_sentences)\n",
        "    \n",
        "    ### END CODE HERE\n",
        "    \n",
        "    return tokenizer"
      ],
      "metadata": {
        "id": "3uk4_MloBHrf"
      },
      "execution_count": null,
      "outputs": []
    },
    {
      "cell_type": "code",
      "source": [
        "tokenizer = fit_tokenizer(train_sentences, NUM_WORDS, OOV_TOKEN)\n",
        "word_index = tokenizer.word_index"
      ],
      "metadata": {
        "id": "Hn8zzCalCGpg"
      },
      "execution_count": null,
      "outputs": []
    },
    {
      "cell_type": "code",
      "source": [
        "# GRADED FUNCTION: seq_and_pad\n",
        "def seq_and_pad(sentences, tokenizer, padding, maxlen):\n",
        "    \"\"\"\n",
        "    Generates an array of token sequences and pads them to the same length\n",
        "    \n",
        "    Args:\n",
        "        sentences (list of string): list of sentences to tokenize and pad\n",
        "        tokenizer (object): Tokenizer instance containing the word-index dictionary\n",
        "        padding (string): type of padding to use\n",
        "        maxlen (int): maximum length of the token sequence\n",
        "    \n",
        "    Returns:\n",
        "        padded_sequences (array of int): tokenized sentences padded to the same length\n",
        "    \"\"\"    \n",
        "    ### START CODE HERE\n",
        "       \n",
        "    # Convert sentences to sequences\n",
        "    sequences = tokenizer.texts_to_sequences(sentences)\n",
        "    \n",
        "    # Pad the sequences using the correct padding and maxlen\n",
        "    padded_sequences = pad_sequences(sequences, padding=padding, maxlen=maxlen)\n",
        "\n",
        "    \n",
        "    ### END CODE HERE\n",
        "    \n",
        "    return padded_sequences"
      ],
      "metadata": {
        "id": "b77VhK4qBKK1"
      },
      "execution_count": null,
      "outputs": []
    },
    {
      "cell_type": "code",
      "source": [
        "train_padded_seq = seq_and_pad(train_sentences, tokenizer, PADDING, MAXLEN)\n",
        "val_padded_seq = seq_and_pad(val_sentences, tokenizer, PADDING, MAXLEN)"
      ],
      "metadata": {
        "id": "MxT3TA0mCOPe"
      },
      "execution_count": null,
      "outputs": []
    },
    {
      "cell_type": "code",
      "source": [
        "# GRADED FUNCTION: tokenize_labels\n",
        "def tokenize_labels(all_labels, split_labels):\n",
        "    \"\"\"\n",
        "    Tokenizes the labels\n",
        "    \n",
        "    Args:\n",
        "        all_labels (list of string): labels to generate the word-index from\n",
        "        split_labels (list of string): labels to tokenize\n",
        "    \n",
        "    Returns:\n",
        "        label_seq_np (array of int): tokenized labels\n",
        "    \"\"\"\n",
        "    ### START CODE HERE\n",
        "    \n",
        "    # Instantiate the Tokenizer (no additional arguments needed)\n",
        "    label_tokenizer =Tokenizer()\n",
        "    # Fit the tokenizer on all the labels\n",
        "    label_tokenizer.fit_on_texts(all_labels) \n",
        "    # Convert labels to sequences\n",
        "    label_seq = label_tokenizer.texts_to_sequences(split_labels)\n",
        "    \n",
        "    # Convert sequences to a numpy array. Don't forget to substact 1 from every entry in the array!\n",
        "    label_seq_np = np.array(label_seq)-1\n",
        "    \n",
        "    ### END CODE HERE\n",
        "    \n",
        "    return label_seq_np"
      ],
      "metadata": {
        "id": "6sS-shd-BM19"
      },
      "execution_count": null,
      "outputs": []
    },
    {
      "cell_type": "code",
      "source": [
        "train_label_seq = tokenize_labels(labels, train_labels)\n",
        "val_label_seq = tokenize_labels(labels, val_labels)"
      ],
      "metadata": {
        "id": "Jg4l44V4CUYE"
      },
      "execution_count": null,
      "outputs": []
    },
    {
      "cell_type": "code",
      "source": [
        "#joy:0,sadness:1,anger:2, fear:3, love:4,surprise:5"
      ],
      "metadata": {
        "id": "0GAM93BNGFkD"
      },
      "execution_count": null,
      "outputs": []
    },
    {
      "cell_type": "code",
      "source": [
        "train_labels[17]"
      ],
      "metadata": {
        "colab": {
          "base_uri": "https://localhost:8080/",
          "height": 35
        },
        "id": "MF0GkBcHFxQA",
        "outputId": "8003c02d-09e8-482b-fa6d-f31840268350"
      },
      "execution_count": null,
      "outputs": [
        {
          "output_type": "execute_result",
          "data": {
            "text/plain": [
              "'fear'"
            ],
            "application/vnd.google.colaboratory.intrinsic+json": {
              "type": "string"
            }
          },
          "metadata": {},
          "execution_count": 35
        }
      ]
    },
    {
      "cell_type": "code",
      "source": [
        "train_label_seq[17]"
      ],
      "metadata": {
        "colab": {
          "base_uri": "https://localhost:8080/"
        },
        "id": "GCUU3-l2F1oh",
        "outputId": "36e16be2-f229-4f07-9ff3-038eb620ceff"
      },
      "execution_count": null,
      "outputs": [
        {
          "output_type": "execute_result",
          "data": {
            "text/plain": [
              "array([3])"
            ]
          },
          "metadata": {},
          "execution_count": 36
        }
      ]
    },
    {
      "cell_type": "code",
      "source": [
        "# GRADED FUNCTION: create_model\n",
        "def create_model(num_words, embedding_dim, maxlen):\n",
        "    \"\"\"\n",
        "    Creates a text classifier model\n",
        "    \n",
        "    Args:\n",
        "        num_words (int): size of the vocabulary for the Embedding layer input\n",
        "        embedding_dim (int): dimensionality of the Embedding layer output\n",
        "        maxlen (int): length of the input sequences\n",
        "    \n",
        "    Returns:\n",
        "        model (tf.keras Model): the text classifier model\n",
        "    \"\"\"\n",
        "    \n",
        "    tf.random.set_seed(123)\n",
        "    \n",
        "    ### START CODE HERE\n",
        "    \n",
        "    model = tf.keras.Sequential([ \n",
        "    tf.keras.layers.Embedding(num_words, embedding_dim, input_length=maxlen),\n",
        "    tf.keras.layers.GlobalAveragePooling1D(),\n",
        "    tf.keras.layers.Dense(24, activation='relu'),\n",
        "    tf.keras.layers.Dense(6, activation='softmax')\n",
        "    ])\n",
        "    \n",
        "    model.compile(loss='sparse_categorical_crossentropy',\n",
        "                  optimizer='adam',\n",
        "                  metrics=['accuracy']) \n",
        "\n",
        "    ### END CODE HERE\n",
        "\n",
        "    return model\n"
      ],
      "metadata": {
        "id": "dQqPiar5BP86"
      },
      "execution_count": null,
      "outputs": []
    },
    {
      "cell_type": "code",
      "source": [
        "model = create_model(NUM_WORDS, EMBEDDING_DIM, MAXLEN)\n",
        "\n",
        "history = model.fit(train_padded_seq, train_label_seq, epochs=30, validation_data=(val_padded_seq, val_label_seq))"
      ],
      "metadata": {
        "colab": {
          "base_uri": "https://localhost:8080/"
        },
        "id": "aC3fhjdFBTRL",
        "outputId": "54199bce-5967-4734-f41a-325f4ca483db"
      },
      "execution_count": null,
      "outputs": [
        {
          "output_type": "stream",
          "name": "stdout",
          "text": [
            "Epoch 1/30\n",
            "10421/10421 [==============================] - 20s 2ms/step - loss: 1.1227 - accuracy: 0.5492 - val_loss: 0.6920 - val_accuracy: 0.7856\n",
            "Epoch 2/30\n",
            "10421/10421 [==============================] - 19s 2ms/step - loss: 0.4980 - accuracy: 0.8311 - val_loss: 0.4215 - val_accuracy: 0.8491\n",
            "Epoch 3/30\n",
            "10421/10421 [==============================] - 18s 2ms/step - loss: 0.4075 - accuracy: 0.8511 - val_loss: 0.3985 - val_accuracy: 0.8508\n",
            "Epoch 4/30\n",
            "10421/10421 [==============================] - 18s 2ms/step - loss: 0.3891 - accuracy: 0.8538 - val_loss: 0.3870 - val_accuracy: 0.8519\n",
            "Epoch 5/30\n",
            "10421/10421 [==============================] - 19s 2ms/step - loss: 0.3732 - accuracy: 0.8558 - val_loss: 0.3691 - val_accuracy: 0.8562\n",
            "Epoch 6/30\n",
            "10421/10421 [==============================] - 18s 2ms/step - loss: 0.3581 - accuracy: 0.8574 - val_loss: 0.3617 - val_accuracy: 0.8548\n",
            "Epoch 7/30\n",
            "10421/10421 [==============================] - 19s 2ms/step - loss: 0.3471 - accuracy: 0.8587 - val_loss: 0.3480 - val_accuracy: 0.8574\n",
            "Epoch 8/30\n",
            "10421/10421 [==============================] - 19s 2ms/step - loss: 0.3401 - accuracy: 0.8598 - val_loss: 0.3462 - val_accuracy: 0.8567\n",
            "Epoch 9/30\n",
            "10421/10421 [==============================] - 19s 2ms/step - loss: 0.3351 - accuracy: 0.8605 - val_loss: 0.3435 - val_accuracy: 0.8574\n",
            "Epoch 10/30\n",
            "10421/10421 [==============================] - 18s 2ms/step - loss: 0.3320 - accuracy: 0.8609 - val_loss: 0.3427 - val_accuracy: 0.8578\n",
            "Epoch 11/30\n",
            "10421/10421 [==============================] - 19s 2ms/step - loss: 0.3287 - accuracy: 0.8612 - val_loss: 0.3409 - val_accuracy: 0.8556\n",
            "Epoch 12/30\n",
            "10421/10421 [==============================] - 20s 2ms/step - loss: 0.3269 - accuracy: 0.8615 - val_loss: 0.3439 - val_accuracy: 0.8560\n",
            "Epoch 13/30\n",
            "10421/10421 [==============================] - 19s 2ms/step - loss: 0.3253 - accuracy: 0.8620 - val_loss: 0.3452 - val_accuracy: 0.8571\n",
            "Epoch 14/30\n",
            "10421/10421 [==============================] - 19s 2ms/step - loss: 0.3240 - accuracy: 0.8619 - val_loss: 0.3422 - val_accuracy: 0.8560\n",
            "Epoch 15/30\n",
            "10421/10421 [==============================] - 18s 2ms/step - loss: 0.3230 - accuracy: 0.8622 - val_loss: 0.3447 - val_accuracy: 0.8548\n",
            "Epoch 16/30\n",
            "10421/10421 [==============================] - 18s 2ms/step - loss: 0.3218 - accuracy: 0.8630 - val_loss: 0.3397 - val_accuracy: 0.8562\n",
            "Epoch 17/30\n",
            "10421/10421 [==============================] - 18s 2ms/step - loss: 0.3209 - accuracy: 0.8632 - val_loss: 0.3383 - val_accuracy: 0.8580\n",
            "Epoch 18/30\n",
            "10421/10421 [==============================] - 18s 2ms/step - loss: 0.3202 - accuracy: 0.8635 - val_loss: 0.3347 - val_accuracy: 0.8584\n",
            "Epoch 19/30\n",
            "10421/10421 [==============================] - 19s 2ms/step - loss: 0.3193 - accuracy: 0.8635 - val_loss: 0.3462 - val_accuracy: 0.8553\n",
            "Epoch 20/30\n",
            "10421/10421 [==============================] - 19s 2ms/step - loss: 0.3184 - accuracy: 0.8640 - val_loss: 0.3366 - val_accuracy: 0.8578\n",
            "Epoch 21/30\n",
            "10421/10421 [==============================] - 19s 2ms/step - loss: 0.3177 - accuracy: 0.8640 - val_loss: 0.3364 - val_accuracy: 0.8568\n",
            "Epoch 22/30\n",
            "10421/10421 [==============================] - 19s 2ms/step - loss: 0.3167 - accuracy: 0.8642 - val_loss: 0.3392 - val_accuracy: 0.8559\n",
            "Epoch 23/30\n",
            "10421/10421 [==============================] - 19s 2ms/step - loss: 0.3165 - accuracy: 0.8649 - val_loss: 0.3363 - val_accuracy: 0.8584\n",
            "Epoch 24/30\n",
            "10421/10421 [==============================] - 19s 2ms/step - loss: 0.3156 - accuracy: 0.8651 - val_loss: 0.3410 - val_accuracy: 0.8551\n",
            "Epoch 25/30\n",
            "10421/10421 [==============================] - 18s 2ms/step - loss: 0.3148 - accuracy: 0.8655 - val_loss: 0.3361 - val_accuracy: 0.8570\n",
            "Epoch 26/30\n",
            "10421/10421 [==============================] - 19s 2ms/step - loss: 0.3143 - accuracy: 0.8652 - val_loss: 0.3361 - val_accuracy: 0.8576\n",
            "Epoch 27/30\n",
            "10421/10421 [==============================] - 19s 2ms/step - loss: 0.3139 - accuracy: 0.8652 - val_loss: 0.3377 - val_accuracy: 0.8578\n",
            "Epoch 28/30\n",
            "10421/10421 [==============================] - 18s 2ms/step - loss: 0.3131 - accuracy: 0.8658 - val_loss: 0.3363 - val_accuracy: 0.8559\n",
            "Epoch 29/30\n",
            "10421/10421 [==============================] - 18s 2ms/step - loss: 0.3128 - accuracy: 0.8662 - val_loss: 0.3365 - val_accuracy: 0.8553\n",
            "Epoch 30/30\n",
            "10421/10421 [==============================] - 19s 2ms/step - loss: 0.3122 - accuracy: 0.8660 - val_loss: 0.3387 - val_accuracy: 0.8556\n"
          ]
        }
      ]
    },
    {
      "cell_type": "code",
      "source": [
        "def plot_graphs(history, metric):\n",
        "    plt.plot(history.history[metric])\n",
        "    plt.plot(history.history[f'val_{metric}'])\n",
        "    plt.xlabel(\"Epochs\")\n",
        "    plt.ylabel(metric)\n",
        "    plt.legend([metric, f'val_{metric}'])\n",
        "    plt.show()\n",
        "    \n",
        "plot_graphs(history, \"accuracy\")\n",
        "plot_graphs(history, \"loss\")"
      ],
      "metadata": {
        "colab": {
          "base_uri": "https://localhost:8080/",
          "height": 541
        },
        "id": "Qeba_ee3CYjY",
        "outputId": "30f78ff8-f7f0-4664-cc93-daed0f0813f2"
      },
      "execution_count": null,
      "outputs": [
        {
          "output_type": "display_data",
          "data": {
            "text/plain": [
              "<Figure size 432x288 with 1 Axes>"
            ],
            "image/png": "[encoded data removed]"
          },
          "metadata": {
            "needs_background": "light"
          }
        },
        {
          "output_type": "display_data",
          "data": {
            "text/plain": [
              "<Figure size 432x288 with 1 Axes>"
            ],
            "image/png": "[encoded data removed]"
          },
          "metadata": {
            "needs_background": "light"
          }
        }
      ]
    },
    {
      "cell_type": "code",
      "source": [
        "model1 = tf.keras.models.load_model('/content/drive/MyDrive/Project-Phase1-CS4/tweet_emotion_model_g.h5')"
      ],
      "metadata": {
        "id": "u2Q8jtxnCYy3"
      },
      "execution_count": null,
      "outputs": []
    },
    {
      "cell_type": "code",
      "source": [
        "x = [\"the view of skeleton under the lake terrified me to the bones but i was thrilled to see more\"]"
      ],
      "metadata": {
        "id": "ySvaHhqwEsIU"
      },
      "execution_count": null,
      "outputs": []
    },
    {
      "cell_type": "code",
      "source": [
        "x_padded_seq = seq_and_pad(x, tokenizer, PADDING, MAXLEN)"
      ],
      "metadata": {
        "id": "OrJ39shxE5Ib"
      },
      "execution_count": null,
      "outputs": []
    },
    {
      "cell_type": "code",
      "source": [
        "x_padded_seq"
      ],
      "metadata": {
        "colab": {
          "base_uri": "https://localhost:8080/"
        },
        "id": "VLIWaSUTFHg4",
        "outputId": "c517b852-8532-4509-d177-6f12d6df8cf8"
      },
      "execution_count": null,
      "outputs": [
        {
          "output_type": "execute_result",
          "data": {
            "text/plain": [
              "array([[  6,   1,  10,   1, 633,   6,   1, 517,  19,   5,   6,   1,  20,\n",
              "          2,  21, 671,   5, 112,  38,   0,   0,   0,   0,   0,   0,   0,\n",
              "          0,   0,   0,   0,   0,   0,   0,   0,   0,   0,   0,   0,   0,\n",
              "          0,   0,   0,   0,   0,   0,   0,   0,   0,   0,   0,   0,   0,\n",
              "          0,   0,   0,   0,   0,   0,   0,   0,   0,   0,   0,   0,   0,\n",
              "          0,   0,   0,   0,   0,   0,   0,   0,   0,   0,   0,   0,   0,\n",
              "          0,   0,   0,   0,   0,   0,   0,   0,   0,   0,   0,   0,   0,\n",
              "          0,   0,   0,   0,   0,   0,   0,   0,   0,   0,   0,   0,   0,\n",
              "          0,   0,   0,   0,   0,   0,   0,   0,   0,   0,   0,   0,   0,\n",
              "          0,   0,   0]], dtype=int32)"
            ]
          },
          "metadata": {},
          "execution_count": 39
        }
      ]
    },
    {
      "cell_type": "code",
      "source": [
        "y=np.argmax(model1.predict(x_padded_seq))"
      ],
      "metadata": {
        "colab": {
          "base_uri": "https://localhost:8080/"
        },
        "id": "uFcx5DvXFKBn",
        "outputId": "116594ae-d746-47ef-db2a-625640a36d2f"
      },
      "execution_count": null,
      "outputs": [
        {
          "output_type": "stream",
          "name": "stdout",
          "text": [
            "1/1 [==============================] - 0s 305ms/step\n"
          ]
        }
      ]
    },
    {
      "cell_type": "code",
      "source": [
        "y"
      ],
      "metadata": {
        "colab": {
          "base_uri": "https://localhost:8080/"
        },
        "id": "cc28LKhoFU9k",
        "outputId": "d9664b64-a0af-4fe8-90b6-b31cc30affcc"
      },
      "execution_count": null,
      "outputs": [
        {
          "output_type": "execute_result",
          "data": {
            "text/plain": [
              "3"
            ]
          },
          "metadata": {},
          "execution_count": 41
        }
      ]
    },
    {
      "cell_type": "code",
      "source": [
        "#joy:0,sadness:1,anger:2, fear:3, love:4,surprise:5"
      ],
      "metadata": {
        "id": "Q73EgwS7FWNn"
      },
      "execution_count": null,
      "outputs": []
    },
    {
      "cell_type": "code",
      "source": [
        "# model.save(\"/content/drive/MyDrive/Project-Phase1-CS4/tweet_emotion_model_g.h5\")"
      ],
      "metadata": {
        "id": "1JAVbvX_Gtzj"
      },
      "execution_count": null,
      "outputs": []
    },
    {
      "cell_type": "code",
      "source": [],
      "metadata": {
        "id": "4Qz8Vri4H4pw"
      },
      "execution_count": null,
      "outputs": []
    }
  ],
  "metadata": {
    "colab": {
      "provenance": [],
      "collapsed_sections": []
    },
    "kernelspec": {
      "display_name": "Python 3",
      "name": "python3"
    },
    "language_info": {
      "name": "python"
    }
  },
  "nbformat": 4,
  "nbformat_minor": 0
}